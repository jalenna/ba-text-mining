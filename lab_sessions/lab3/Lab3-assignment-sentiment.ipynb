{
    "cells": [
        {
            "cell_type": "markdown",
            "metadata": {},
            "source": [
                "# Lab3 - Assignment Sentiment"
            ]
        },
        {
            "cell_type": "markdown",
            "metadata": {},
            "source": [
                "Copyright: Vrije Universiteit Amsterdam, Faculty of Humanities, CLTL"
            ]
        },
        {
            "cell_type": "markdown",
            "metadata": {},
            "source": [
                "This notebook describes the LAB-3 assignment of the Text Mining course. It is about sentiment analysis.\n",
                "\n",
                "The aims of the assignment are:\n",
                "* Learn how to run a rule-based sentiment analysis module (VADER)\n",
                "* Learn how to run a machine learning sentiment analysis module (Scikit-Learn/ Naive Bayes)\n",
                "* Learn how to run scikit-learn metrics for the quantitative evaluation\n",
                "* Learn how to perform and interpret a quantitative evaluation of the outcomes of the tools (in terms of Precision, Recall, and F<sub>1</sub>)\n",
                "* Learn how to evaluate the results qualitatively (by examining the data) \n",
                "* Get insight into differences between the two applied methods\n",
                "* Get insight into the effects of using linguistic preprocessing\n",
                "* Be able to describe differences between the two methods in terms of their results\n",
                "* Get insight into issues when applying these methods across different  domains\n",
                "\n",
                "In this assignment, you are going to create your own gold standard set from 50 tweets. You will the VADER and scikit-learn classifiers to these tweets and evaluate the results by using evaluation metrics and inspecting the data.\n",
                "\n",
                "We recommend you go through the notebooks in the following order:\n",
                "* **Read the assignment (see below)**\n",
                "* **Lab3.2-Sentiment-analysis-with-VADER.ipynb**\n",
                "* **Lab3.3-Sentiment-analysis.with-scikit-learn.ipynb**\n",
                "* **Answer the questions of the assignment (see below) using the provided notebooks and submit**\n",
                "\n",
                "In this assignment you are asked to perform both quantitative evaluations and error analyses:\n",
                "* a quantitative evaluation concerns the scores (Precision, Recall, and F<sub>1</sub>) provided by scikit's classification_report. It includes the scores per category, as well as micro and macro averages. Discuss whether the scores are balanced or not between the different categories (positive, negative, neutral) and between precision and recall. Discuss the shortcomings (if any) of the classifier based on these scores\n",
                "* an error analysis regarding the misclassifications of the classifier. It involves going through the texts and trying to understand what has gone wrong. It servers to get insight in what could be done to improve the performance of the classifier. Do you observe patterns in misclassifications?  Discuss why these errors are made and propose ways to solve them."
            ]
        },
        {
            "cell_type": "markdown",
            "metadata": {},
            "source": [
                "## Credits\n",
                "The notebooks in this block have been originally created by [Marten Postma](https://martenpostma.github.io) and [Isa Maks](https://research.vu.nl/en/persons/e-maks). Adaptations were made by [Filip Ilievski](http://ilievski.nl)."
            ]
        },
        {
            "cell_type": "markdown",
            "metadata": {},
            "source": [
                "## Part I: VADER assignments\n",
                "\n",
                "\n",
                "### Preparation (nothing to submit):\n",
                "To be able to answer the VADER questions you need to know how the tool works. \n",
                "* Read more about the VADER tool in [this blog](https://www.geeksforgeeks.org/python-sentiment-analysis-using-vader/).  \n",
                "* VADER provides 4 scores (positive, negative, neutral, compound). Be sure to understand what they mean and how they are calculated.\n",
                "* VADER uses rules to handle linguistic phenomena such as negation and intensification. Be sure to understand which rules are used, how they work, and why they are important.\n",
                "* VADER makes use of a sentiment lexicon. Have a look at the lexicon. Be sure to understand which information can be found there (lemma?, wordform?, part-of-speech?, polarity value?, word meaning?) What do all scores mean? https://github.com/cjhutto/vaderSentiment/blob/master/vaderSentiment/vader_lexicon.txt) \n",
                "\n",
                "\n",
                "### [3.5 points] Question1:\n",
                "\n",
                "Regard the following sentences and their output as given by VADER. Regard sentences 1 to 7, and explain the outcome **for each sentence**. Take into account both the rules applied by VADER and the lexicon that is used. You will find that some of the results are reasonable, but others are not. Explain what is going wrong or not when correct and incorrect results are produced. \n",
                "\n",
                "```\n",
                "INPUT SENTENCE 1 I love apples\n",
                "VADER OUTPUT {'neg': 0.0, 'neu': 0.192, 'pos': 0.808, 'compound': 0.6369}\n",
                "\n",
                "INPUT SENTENCE 2 I don't love apples\n",
                "VADER OUTPUT {'neg': 0.627, 'neu': 0.373, 'pos': 0.0, 'compound': -0.5216}\n",
                "\n",
                "INPUT SENTENCE 3 I love apples :-)\n",
                "VADER OUTPUT {'neg': 0.0, 'neu': 0.133, 'pos': 0.867, 'compound': 0.7579}\n",
                "\n",
                "INPUT SENTENCE 4 These houses are ruins\n",
                "VADER OUTPUT {'neg': 0.492, 'neu': 0.508, 'pos': 0.0, 'compound': -0.4404}\n",
                "\n",
                "INPUT SENTENCE 5 These houses are certainly not considered ruins\n",
                "VADER OUTPUT {'neg': 0.0, 'neu': 0.51, 'pos': 0.49, 'compound': 0.5867}\n",
                "\n",
                "INPUT SENTENCE 6 He lies in the chair in the garden\n",
                "VADER OUTPUT {'neg': 0.286, 'neu': 0.714, 'pos': 0.0, 'compound': -0.4215}\n",
                "\n",
                "INPUT SENTENCE 7 This house is like any house\n",
                "VADER OUTPUT {'neg': 0.0, 'neu': 0.667, 'pos': 0.333, 'compound': 0.3612}\n",
                "```"
            ]
        },
        {
            "cell_type": "markdown",
            "metadata": {},
            "source": [
                "### [Points: 2.5] Exercise 2: Collecting 50 tweets for evaluation\n",
                "Collect 50 tweets. Try to find tweets that are interesting for sentiment analysis, e.g., very positive, neutral, and negative tweets. These could be your own tweets (typed in) or collected from the Twitter stream. If you have trouble accessing Twitter, try to find an existing dataset (on websites like kaggle or huggingface).\n",
                "\n",
                "We will store the tweets in the file **my_tweets.json** (use a text editor to edit).\n",
                "For each tweet, you should insert:\n",
                "* sentiment analysis label: negative | neutral | positive (this you determine yourself, this is not done by a computer)\n",
                "* the text of the tweet\n",
                "* the Tweet-URL\n",
                "\n",
                "from:\n",
                "```\n",
                "    \"1\": {\n",
                "        \"sentiment_label\": \"\",\n",
                "        \"text_of_tweet\": \"\",\n",
                "        \"tweet_url\": \"\",\n",
                "```\n",
                "to:\n",
                "```\n",
                "\"1\": {\n",
                "        \"sentiment_label\": \"positive\",\n",
                "        \"text_of_tweet\": \"All across America people chose to get involved, get engaged and stand up. Each of us can make a difference, and all of us ought to try. So go keep changing the world in 2018.\",\n",
                "        \"tweet_url\" : \"https://twitter.com/BarackObama/status/946775615893655552\",\n",
                "    },\n",
                "```"
            ]
        },
        {
            "cell_type": "markdown",
            "metadata": {},
            "source": [
                "You can load your tweets with human annotation in the following way."
            ]
        },
        {
            "cell_type": "code",
            "execution_count": 9,
            "metadata": {},
            "outputs": [],
            "source": [
                "import json"
            ]
        },
        {
            "cell_type": "code",
            "execution_count": 10,
            "metadata": {},
            "outputs": [],
            "source": [
                "my_tweets = None\n",
                "with open('my_tweets.json', encoding=\"utf8\") as f:\n",
                "    my_tweets = json.load(f)"
            ]
        },
        {
            "cell_type": "code",
            "execution_count": 11,
            "metadata": {},
            "outputs": [
                {
                    "name": "stdout",
                    "output_type": "stream",
                    "text": [
                        "1 {'sentiment_label': 'Positive', 'text_of_tweet': 'Be sure to tune in and watch Donald Trump on Late Night with David Letterman as he presents the Top Ten List tonight!', 'tweet_url': 'https://twitter.com/realDonaldTrump/status/1698308935'}\n"
                    ]
                }
            ],
            "source": [
                "for id_, tweet_info in my_tweets.items():\n",
                "    print(id_, tweet_info)\n",
                "    break"
            ]
        },
        {
            "cell_type": "markdown",
            "metadata": {},
            "source": [
                "### [5 points] Question 3:\n",
                "\n",
                "Run VADER on your own tweets (see function **run_vader** from notebook **Lab2-Sentiment-analysis-using-VADER.ipynb**). You can use the code snippet below this explanation as a starting point. \n",
                "* [2.5 points] a. Perform a quantitative evaluation. Explain the different scores, and explain which scores are most relevant and why.\n",
                "* [2.5 points] b. Perform an error analysis: select 10 positive, 10 negative and 10 neutral tweets that are not correctly classified and try to understand why. Refer to the VADER-rules and the VADER-lexicon. Of course, if there are less than 10 errors for a category, you only have to check those. For example, if there are only 5 errors for positive tweets, you just describe those."
            ]
        },
        {
            "cell_type": "code",
            "execution_count": 12,
            "metadata": {},
            "outputs": [
                {
                    "name": "stderr",
                    "output_type": "stream",
                    "text": [
                        "\n",
                        "A module that was compiled using NumPy 1.x cannot be run in\n",
                        "NumPy 2.2.5 as it may crash. To support both 1.x and 2.x\n",
                        "versions of NumPy, modules must be compiled with NumPy 2.0.\n",
                        "Some module may need to rebuild instead e.g. with 'pybind11>=2.12'.\n",
                        "\n",
                        "If you are a user of the module, the easiest solution will be to\n",
                        "downgrade to 'numpy<2' or try to upgrade the affected module.\n",
                        "We expect that some modules will need time to support NumPy 2.\n",
                        "\n",
                        "Traceback (most recent call last):  File \"<frozen runpy>\", line 198, in _run_module_as_main\n",
                        "  File \"<frozen runpy>\", line 88, in _run_code\n",
                        "  File \"C:\\Users\\jalen\\AppData\\Roaming\\Python\\Python312\\site-packages\\ipykernel_launcher.py\", line 18, in <module>\n",
                        "    app.launch_new_instance()\n",
                        "  File \"C:\\Users\\jalen\\AppData\\Roaming\\Python\\Python312\\site-packages\\traitlets\\config\\application.py\", line 1075, in launch_instance\n",
                        "    app.start()\n",
                        "  File \"C:\\Users\\jalen\\AppData\\Roaming\\Python\\Python312\\site-packages\\ipykernel\\kernelapp.py\", line 739, in start\n",
                        "    self.io_loop.start()\n",
                        "  File \"C:\\Users\\jalen\\AppData\\Roaming\\Python\\Python312\\site-packages\\tornado\\platform\\asyncio.py\", line 205, in start\n",
                        "    self.asyncio_loop.run_forever()\n",
                        "  File \"c:\\dev\\anaconda3\\Lib\\asyncio\\base_events.py\", line 641, in run_forever\n",
                        "    self._run_once()\n",
                        "  File \"c:\\dev\\anaconda3\\Lib\\asyncio\\base_events.py\", line 1986, in _run_once\n",
                        "    handle._run()\n",
                        "  File \"c:\\dev\\anaconda3\\Lib\\asyncio\\events.py\", line 88, in _run\n",
                        "    self._context.run(self._callback, *self._args)\n",
                        "  File \"C:\\Users\\jalen\\AppData\\Roaming\\Python\\Python312\\site-packages\\ipykernel\\kernelbase.py\", line 545, in dispatch_queue\n",
                        "    await self.process_one()\n",
                        "  File \"C:\\Users\\jalen\\AppData\\Roaming\\Python\\Python312\\site-packages\\ipykernel\\kernelbase.py\", line 534, in process_one\n",
                        "    await dispatch(*args)\n",
                        "  File \"C:\\Users\\jalen\\AppData\\Roaming\\Python\\Python312\\site-packages\\ipykernel\\kernelbase.py\", line 437, in dispatch_shell\n",
                        "    await result\n",
                        "  File \"C:\\Users\\jalen\\AppData\\Roaming\\Python\\Python312\\site-packages\\ipykernel\\ipkernel.py\", line 362, in execute_request\n",
                        "    await super().execute_request(stream, ident, parent)\n",
                        "  File \"C:\\Users\\jalen\\AppData\\Roaming\\Python\\Python312\\site-packages\\ipykernel\\kernelbase.py\", line 778, in execute_request\n",
                        "    reply_content = await reply_content\n",
                        "  File \"C:\\Users\\jalen\\AppData\\Roaming\\Python\\Python312\\site-packages\\ipykernel\\ipkernel.py\", line 449, in do_execute\n",
                        "    res = shell.run_cell(\n",
                        "  File \"C:\\Users\\jalen\\AppData\\Roaming\\Python\\Python312\\site-packages\\ipykernel\\zmqshell.py\", line 549, in run_cell\n",
                        "    return super().run_cell(*args, **kwargs)\n",
                        "  File \"C:\\Users\\jalen\\AppData\\Roaming\\Python\\Python312\\site-packages\\IPython\\core\\interactiveshell.py\", line 3075, in run_cell\n",
                        "    result = self._run_cell(\n",
                        "  File \"C:\\Users\\jalen\\AppData\\Roaming\\Python\\Python312\\site-packages\\IPython\\core\\interactiveshell.py\", line 3130, in _run_cell\n",
                        "    result = runner(coro)\n",
                        "  File \"C:\\Users\\jalen\\AppData\\Roaming\\Python\\Python312\\site-packages\\IPython\\core\\async_helpers.py\", line 128, in _pseudo_sync_runner\n",
                        "    coro.send(None)\n",
                        "  File \"C:\\Users\\jalen\\AppData\\Roaming\\Python\\Python312\\site-packages\\IPython\\core\\interactiveshell.py\", line 3334, in run_cell_async\n",
                        "    has_raised = await self.run_ast_nodes(code_ast.body, cell_name,\n",
                        "  File \"C:\\Users\\jalen\\AppData\\Roaming\\Python\\Python312\\site-packages\\IPython\\core\\interactiveshell.py\", line 3517, in run_ast_nodes\n",
                        "    if await self.run_code(code, result, async_=asy):\n",
                        "  File \"C:\\Users\\jalen\\AppData\\Roaming\\Python\\Python312\\site-packages\\IPython\\core\\interactiveshell.py\", line 3577, in run_code\n",
                        "    exec(code_obj, self.user_global_ns, self.user_ns)\n",
                        "  File \"C:\\Users\\jalen\\AppData\\Local\\Temp\\ipykernel_17956\\2554508471.py\", line 2, in <module>\n",
                        "    from sklearn.metrics import classification_report\n",
                        "  File \"c:\\dev\\anaconda3\\Lib\\site-packages\\sklearn\\__init__.py\", line 84, in <module>\n",
                        "    from .base import clone\n",
                        "  File \"c:\\dev\\anaconda3\\Lib\\site-packages\\sklearn\\base.py\", line 19, in <module>\n",
                        "    from .utils._estimator_html_repr import _HTMLDocumentationLinkMixin, estimator_html_repr\n",
                        "  File \"c:\\dev\\anaconda3\\Lib\\site-packages\\sklearn\\utils\\__init__.py\", line 11, in <module>\n",
                        "    from ._chunking import gen_batches, gen_even_slices\n",
                        "  File \"c:\\dev\\anaconda3\\Lib\\site-packages\\sklearn\\utils\\_chunking.py\", line 8, in <module>\n",
                        "    from ._param_validation import Interval, validate_params\n",
                        "  File \"c:\\dev\\anaconda3\\Lib\\site-packages\\sklearn\\utils\\_param_validation.py\", line 11, in <module>\n",
                        "    from scipy.sparse import csr_matrix, issparse\n",
                        "  File \"c:\\dev\\anaconda3\\Lib\\site-packages\\scipy\\sparse\\__init__.py\", line 295, in <module>\n",
                        "    from ._csr import *\n",
                        "  File \"c:\\dev\\anaconda3\\Lib\\site-packages\\scipy\\sparse\\_csr.py\", line 11, in <module>\n",
                        "    from ._sparsetools import (csr_tocsc, csr_tobsr, csr_count_blocks,\n"
                    ]
                },
                {
                    "ename": "ImportError",
                    "evalue": "\nA module that was compiled using NumPy 1.x cannot be run in\nNumPy 2.2.5 as it may crash. To support both 1.x and 2.x\nversions of NumPy, modules must be compiled with NumPy 2.0.\nSome module may need to rebuild instead e.g. with 'pybind11>=2.12'.\n\nIf you are a user of the module, the easiest solution will be to\ndowngrade to 'numpy<2' or try to upgrade the affected module.\nWe expect that some modules will need time to support NumPy 2.\n\n",
                    "output_type": "error",
                    "traceback": [
                        "\u001b[1;31m---------------------------------------------------------------------------\u001b[0m",
                        "\u001b[1;31mImportError\u001b[0m                               Traceback (most recent call last)",
                        "File \u001b[1;32mc:\\dev\\anaconda3\\Lib\\site-packages\\numpy\\core\\_multiarray_umath.py:44\u001b[0m, in \u001b[0;36m__getattr__\u001b[1;34m(attr_name)\u001b[0m\n\u001b[0;32m     39\u001b[0m     \u001b[38;5;66;03m# Also print the message (with traceback).  This is because old versions\u001b[39;00m\n\u001b[0;32m     40\u001b[0m     \u001b[38;5;66;03m# of NumPy unfortunately set up the import to replace (and hide) the\u001b[39;00m\n\u001b[0;32m     41\u001b[0m     \u001b[38;5;66;03m# error.  The traceback shouldn't be needed, but e.g. pytest plugins\u001b[39;00m\n\u001b[0;32m     42\u001b[0m     \u001b[38;5;66;03m# seem to swallow it and we should be failing anyway...\u001b[39;00m\n\u001b[0;32m     43\u001b[0m     sys\u001b[38;5;241m.\u001b[39mstderr\u001b[38;5;241m.\u001b[39mwrite(msg \u001b[38;5;241m+\u001b[39m tb_msg)\n\u001b[1;32m---> 44\u001b[0m     \u001b[38;5;28;01mraise\u001b[39;00m \u001b[38;5;167;01mImportError\u001b[39;00m(msg)\n\u001b[0;32m     46\u001b[0m ret \u001b[38;5;241m=\u001b[39m \u001b[38;5;28mgetattr\u001b[39m(_multiarray_umath, attr_name, \u001b[38;5;28;01mNone\u001b[39;00m)\n\u001b[0;32m     47\u001b[0m \u001b[38;5;28;01mif\u001b[39;00m ret \u001b[38;5;129;01mis\u001b[39;00m \u001b[38;5;28;01mNone\u001b[39;00m:\n",
                        "\u001b[1;31mImportError\u001b[0m: \nA module that was compiled using NumPy 1.x cannot be run in\nNumPy 2.2.5 as it may crash. To support both 1.x and 2.x\nversions of NumPy, modules must be compiled with NumPy 2.0.\nSome module may need to rebuild instead e.g. with 'pybind11>=2.12'.\n\nIf you are a user of the module, the easiest solution will be to\ndowngrade to 'numpy<2' or try to upgrade the affected module.\nWe expect that some modules will need time to support NumPy 2.\n\n"
                    ]
                },
                {
                    "ename": "ImportError",
                    "evalue": "numpy.core.multiarray failed to import",
                    "output_type": "error",
                    "traceback": [
                        "\u001b[1;31m---------------------------------------------------------------------------\u001b[0m",
                        "\u001b[1;31mImportError\u001b[0m                               Traceback (most recent call last)",
                        "Cell \u001b[1;32mIn[12], line 2\u001b[0m\n\u001b[0;32m      1\u001b[0m \u001b[38;5;28;01mfrom\u001b[39;00m\u001b[38;5;250m \u001b[39m\u001b[38;5;21;01mnltk\u001b[39;00m\u001b[38;5;21;01m.\u001b[39;00m\u001b[38;5;21;01msentiment\u001b[39;00m\u001b[38;5;21;01m.\u001b[39;00m\u001b[38;5;21;01mvader\u001b[39;00m\u001b[38;5;250m \u001b[39m\u001b[38;5;28;01mimport\u001b[39;00m SentimentIntensityAnalyzer\n\u001b[1;32m----> 2\u001b[0m \u001b[38;5;28;01mfrom\u001b[39;00m\u001b[38;5;250m \u001b[39m\u001b[38;5;21;01msklearn\u001b[39;00m\u001b[38;5;21;01m.\u001b[39;00m\u001b[38;5;21;01mmetrics\u001b[39;00m\u001b[38;5;250m \u001b[39m\u001b[38;5;28;01mimport\u001b[39;00m classification_report\n\u001b[0;32m      4\u001b[0m \u001b[38;5;28;01mdef\u001b[39;00m\u001b[38;5;250m \u001b[39m\u001b[38;5;21mvader_output_to_label\u001b[39m(vader_output):\n\u001b[0;32m      5\u001b[0m \u001b[38;5;250m    \u001b[39m\u001b[38;5;124;03m\"\"\"\u001b[39;00m\n\u001b[0;32m      6\u001b[0m \u001b[38;5;124;03m    map vader output e.g.,\u001b[39;00m\n\u001b[0;32m      7\u001b[0m \u001b[38;5;124;03m    {'neg': 0.0, 'neu': 0.0, 'pos': 1.0, 'compound': 0.4215}\u001b[39;00m\n\u001b[1;32m   (...)\u001b[0m\n\u001b[0;32m     16\u001b[0m \u001b[38;5;124;03m    :return: 'negative' | 'neutral' | 'positive'\u001b[39;00m\n\u001b[0;32m     17\u001b[0m \u001b[38;5;124;03m    \"\"\"\u001b[39;00m\n",
                        "File \u001b[1;32mc:\\dev\\anaconda3\\Lib\\site-packages\\sklearn\\__init__.py:84\u001b[0m\n\u001b[0;32m     70\u001b[0m     \u001b[38;5;66;03m# We are not importing the rest of scikit-learn during the build\u001b[39;00m\n\u001b[0;32m     71\u001b[0m     \u001b[38;5;66;03m# process, as it may not be compiled yet\u001b[39;00m\n\u001b[0;32m     72\u001b[0m \u001b[38;5;28;01melse\u001b[39;00m:\n\u001b[1;32m   (...)\u001b[0m\n\u001b[0;32m     78\u001b[0m     \u001b[38;5;66;03m# later is linked to the OpenMP runtime to make it possible to introspect\u001b[39;00m\n\u001b[0;32m     79\u001b[0m     \u001b[38;5;66;03m# it and importing it first would fail if the OpenMP dll cannot be found.\u001b[39;00m\n\u001b[0;32m     80\u001b[0m     \u001b[38;5;28;01mfrom\u001b[39;00m\u001b[38;5;250m \u001b[39m\u001b[38;5;21;01m.\u001b[39;00m\u001b[38;5;250m \u001b[39m\u001b[38;5;28;01mimport\u001b[39;00m (\n\u001b[0;32m     81\u001b[0m         __check_build,  \u001b[38;5;66;03m# noqa: F401\u001b[39;00m\n\u001b[0;32m     82\u001b[0m         _distributor_init,  \u001b[38;5;66;03m# noqa: F401\u001b[39;00m\n\u001b[0;32m     83\u001b[0m     )\n\u001b[1;32m---> 84\u001b[0m     \u001b[38;5;28;01mfrom\u001b[39;00m\u001b[38;5;250m \u001b[39m\u001b[38;5;21;01m.\u001b[39;00m\u001b[38;5;21;01mbase\u001b[39;00m\u001b[38;5;250m \u001b[39m\u001b[38;5;28;01mimport\u001b[39;00m clone\n\u001b[0;32m     85\u001b[0m     \u001b[38;5;28;01mfrom\u001b[39;00m\u001b[38;5;250m \u001b[39m\u001b[38;5;21;01m.\u001b[39;00m\u001b[38;5;21;01mutils\u001b[39;00m\u001b[38;5;21;01m.\u001b[39;00m\u001b[38;5;21;01m_show_versions\u001b[39;00m\u001b[38;5;250m \u001b[39m\u001b[38;5;28;01mimport\u001b[39;00m show_versions\n\u001b[0;32m     87\u001b[0m     __all__ \u001b[38;5;241m=\u001b[39m [\n\u001b[0;32m     88\u001b[0m         \u001b[38;5;124m\"\u001b[39m\u001b[38;5;124mcalibration\u001b[39m\u001b[38;5;124m\"\u001b[39m,\n\u001b[0;32m     89\u001b[0m         \u001b[38;5;124m\"\u001b[39m\u001b[38;5;124mcluster\u001b[39m\u001b[38;5;124m\"\u001b[39m,\n\u001b[1;32m   (...)\u001b[0m\n\u001b[0;32m    130\u001b[0m         \u001b[38;5;124m\"\u001b[39m\u001b[38;5;124mshow_versions\u001b[39m\u001b[38;5;124m\"\u001b[39m,\n\u001b[0;32m    131\u001b[0m     ]\n",
                        "File \u001b[1;32mc:\\dev\\anaconda3\\Lib\\site-packages\\sklearn\\base.py:19\u001b[0m\n\u001b[0;32m     17\u001b[0m \u001b[38;5;28;01mfrom\u001b[39;00m\u001b[38;5;250m \u001b[39m\u001b[38;5;21;01m.\u001b[39;00m\u001b[38;5;21;01m_config\u001b[39;00m\u001b[38;5;250m \u001b[39m\u001b[38;5;28;01mimport\u001b[39;00m config_context, get_config\n\u001b[0;32m     18\u001b[0m \u001b[38;5;28;01mfrom\u001b[39;00m\u001b[38;5;250m \u001b[39m\u001b[38;5;21;01m.\u001b[39;00m\u001b[38;5;21;01mexceptions\u001b[39;00m\u001b[38;5;250m \u001b[39m\u001b[38;5;28;01mimport\u001b[39;00m InconsistentVersionWarning\n\u001b[1;32m---> 19\u001b[0m \u001b[38;5;28;01mfrom\u001b[39;00m\u001b[38;5;250m \u001b[39m\u001b[38;5;21;01m.\u001b[39;00m\u001b[38;5;21;01mutils\u001b[39;00m\u001b[38;5;21;01m.\u001b[39;00m\u001b[38;5;21;01m_estimator_html_repr\u001b[39;00m\u001b[38;5;250m \u001b[39m\u001b[38;5;28;01mimport\u001b[39;00m _HTMLDocumentationLinkMixin, estimator_html_repr\n\u001b[0;32m     20\u001b[0m \u001b[38;5;28;01mfrom\u001b[39;00m\u001b[38;5;250m \u001b[39m\u001b[38;5;21;01m.\u001b[39;00m\u001b[38;5;21;01mutils\u001b[39;00m\u001b[38;5;21;01m.\u001b[39;00m\u001b[38;5;21;01m_metadata_requests\u001b[39;00m\u001b[38;5;250m \u001b[39m\u001b[38;5;28;01mimport\u001b[39;00m _MetadataRequester, _routing_enabled\n\u001b[0;32m     21\u001b[0m \u001b[38;5;28;01mfrom\u001b[39;00m\u001b[38;5;250m \u001b[39m\u001b[38;5;21;01m.\u001b[39;00m\u001b[38;5;21;01mutils\u001b[39;00m\u001b[38;5;21;01m.\u001b[39;00m\u001b[38;5;21;01m_param_validation\u001b[39;00m\u001b[38;5;250m \u001b[39m\u001b[38;5;28;01mimport\u001b[39;00m validate_parameter_constraints\n",
                        "File \u001b[1;32mc:\\dev\\anaconda3\\Lib\\site-packages\\sklearn\\utils\\__init__.py:11\u001b[0m\n\u001b[0;32m      9\u001b[0m \u001b[38;5;28;01mfrom\u001b[39;00m\u001b[38;5;250m \u001b[39m\u001b[38;5;21;01m.\u001b[39;00m\u001b[38;5;250m \u001b[39m\u001b[38;5;28;01mimport\u001b[39;00m _joblib, metadata_routing\n\u001b[0;32m     10\u001b[0m \u001b[38;5;28;01mfrom\u001b[39;00m\u001b[38;5;250m \u001b[39m\u001b[38;5;21;01m.\u001b[39;00m\u001b[38;5;21;01m_bunch\u001b[39;00m\u001b[38;5;250m \u001b[39m\u001b[38;5;28;01mimport\u001b[39;00m Bunch\n\u001b[1;32m---> 11\u001b[0m \u001b[38;5;28;01mfrom\u001b[39;00m\u001b[38;5;250m \u001b[39m\u001b[38;5;21;01m.\u001b[39;00m\u001b[38;5;21;01m_chunking\u001b[39;00m\u001b[38;5;250m \u001b[39m\u001b[38;5;28;01mimport\u001b[39;00m gen_batches, gen_even_slices\n\u001b[0;32m     12\u001b[0m \u001b[38;5;28;01mfrom\u001b[39;00m\u001b[38;5;250m \u001b[39m\u001b[38;5;21;01m.\u001b[39;00m\u001b[38;5;21;01m_estimator_html_repr\u001b[39;00m\u001b[38;5;250m \u001b[39m\u001b[38;5;28;01mimport\u001b[39;00m estimator_html_repr\n\u001b[0;32m     14\u001b[0m \u001b[38;5;66;03m# Make _safe_indexing importable from here for backward compat as this particular\u001b[39;00m\n\u001b[0;32m     15\u001b[0m \u001b[38;5;66;03m# helper is considered semi-private and typically very useful for third-party\u001b[39;00m\n\u001b[0;32m     16\u001b[0m \u001b[38;5;66;03m# libraries that want to comply with scikit-learn's estimator API. In particular,\u001b[39;00m\n\u001b[0;32m     17\u001b[0m \u001b[38;5;66;03m# _safe_indexing was included in our public API documentation despite the leading\u001b[39;00m\n\u001b[0;32m     18\u001b[0m \u001b[38;5;66;03m# `_` in its name.\u001b[39;00m\n",
                        "File \u001b[1;32mc:\\dev\\anaconda3\\Lib\\site-packages\\sklearn\\utils\\_chunking.py:8\u001b[0m\n\u001b[0;32m      5\u001b[0m \u001b[38;5;28;01mimport\u001b[39;00m\u001b[38;5;250m \u001b[39m\u001b[38;5;21;01mnumpy\u001b[39;00m\u001b[38;5;250m \u001b[39m\u001b[38;5;28;01mas\u001b[39;00m\u001b[38;5;250m \u001b[39m\u001b[38;5;21;01mnp\u001b[39;00m\n\u001b[0;32m      7\u001b[0m \u001b[38;5;28;01mfrom\u001b[39;00m\u001b[38;5;250m \u001b[39m\u001b[38;5;21;01m.\u001b[39;00m\u001b[38;5;21;01m.\u001b[39;00m\u001b[38;5;21;01m_config\u001b[39;00m\u001b[38;5;250m \u001b[39m\u001b[38;5;28;01mimport\u001b[39;00m get_config\n\u001b[1;32m----> 8\u001b[0m \u001b[38;5;28;01mfrom\u001b[39;00m\u001b[38;5;250m \u001b[39m\u001b[38;5;21;01m.\u001b[39;00m\u001b[38;5;21;01m_param_validation\u001b[39;00m\u001b[38;5;250m \u001b[39m\u001b[38;5;28;01mimport\u001b[39;00m Interval, validate_params\n\u001b[0;32m     11\u001b[0m \u001b[38;5;28;01mdef\u001b[39;00m\u001b[38;5;250m \u001b[39m\u001b[38;5;21mchunk_generator\u001b[39m(gen, chunksize):\n\u001b[0;32m     12\u001b[0m \u001b[38;5;250m    \u001b[39m\u001b[38;5;124;03m\"\"\"Chunk generator, ``gen`` into lists of length ``chunksize``. The last\u001b[39;00m\n\u001b[0;32m     13\u001b[0m \u001b[38;5;124;03m    chunk may have a length less than ``chunksize``.\"\"\"\u001b[39;00m\n",
                        "File \u001b[1;32mc:\\dev\\anaconda3\\Lib\\site-packages\\sklearn\\utils\\_param_validation.py:11\u001b[0m\n\u001b[0;32m      8\u001b[0m \u001b[38;5;28;01mfrom\u001b[39;00m\u001b[38;5;250m \u001b[39m\u001b[38;5;21;01mnumbers\u001b[39;00m\u001b[38;5;250m \u001b[39m\u001b[38;5;28;01mimport\u001b[39;00m Integral, Real\n\u001b[0;32m     10\u001b[0m \u001b[38;5;28;01mimport\u001b[39;00m\u001b[38;5;250m \u001b[39m\u001b[38;5;21;01mnumpy\u001b[39;00m\u001b[38;5;250m \u001b[39m\u001b[38;5;28;01mas\u001b[39;00m\u001b[38;5;250m \u001b[39m\u001b[38;5;21;01mnp\u001b[39;00m\n\u001b[1;32m---> 11\u001b[0m \u001b[38;5;28;01mfrom\u001b[39;00m\u001b[38;5;250m \u001b[39m\u001b[38;5;21;01mscipy\u001b[39;00m\u001b[38;5;21;01m.\u001b[39;00m\u001b[38;5;21;01msparse\u001b[39;00m\u001b[38;5;250m \u001b[39m\u001b[38;5;28;01mimport\u001b[39;00m csr_matrix, issparse\n\u001b[0;32m     13\u001b[0m \u001b[38;5;28;01mfrom\u001b[39;00m\u001b[38;5;250m \u001b[39m\u001b[38;5;21;01m.\u001b[39;00m\u001b[38;5;21;01m.\u001b[39;00m\u001b[38;5;21;01m_config\u001b[39;00m\u001b[38;5;250m \u001b[39m\u001b[38;5;28;01mimport\u001b[39;00m config_context, get_config\n\u001b[0;32m     14\u001b[0m \u001b[38;5;28;01mfrom\u001b[39;00m\u001b[38;5;250m \u001b[39m\u001b[38;5;21;01m.\u001b[39;00m\u001b[38;5;21;01mvalidation\u001b[39;00m\u001b[38;5;250m \u001b[39m\u001b[38;5;28;01mimport\u001b[39;00m _is_arraylike_not_scalar\n",
                        "File \u001b[1;32mc:\\dev\\anaconda3\\Lib\\site-packages\\scipy\\sparse\\__init__.py:295\u001b[0m\n\u001b[0;32m    292\u001b[0m \u001b[38;5;28;01mimport\u001b[39;00m\u001b[38;5;250m \u001b[39m\u001b[38;5;21;01mwarnings\u001b[39;00m\u001b[38;5;250m \u001b[39m\u001b[38;5;28;01mas\u001b[39;00m\u001b[38;5;250m \u001b[39m\u001b[38;5;21;01m_warnings\u001b[39;00m\n\u001b[0;32m    294\u001b[0m \u001b[38;5;28;01mfrom\u001b[39;00m\u001b[38;5;250m \u001b[39m\u001b[38;5;21;01m.\u001b[39;00m\u001b[38;5;21;01m_base\u001b[39;00m\u001b[38;5;250m \u001b[39m\u001b[38;5;28;01mimport\u001b[39;00m \u001b[38;5;241m*\u001b[39m\n\u001b[1;32m--> 295\u001b[0m \u001b[38;5;28;01mfrom\u001b[39;00m\u001b[38;5;250m \u001b[39m\u001b[38;5;21;01m.\u001b[39;00m\u001b[38;5;21;01m_csr\u001b[39;00m\u001b[38;5;250m \u001b[39m\u001b[38;5;28;01mimport\u001b[39;00m \u001b[38;5;241m*\u001b[39m\n\u001b[0;32m    296\u001b[0m \u001b[38;5;28;01mfrom\u001b[39;00m\u001b[38;5;250m \u001b[39m\u001b[38;5;21;01m.\u001b[39;00m\u001b[38;5;21;01m_csc\u001b[39;00m\u001b[38;5;250m \u001b[39m\u001b[38;5;28;01mimport\u001b[39;00m \u001b[38;5;241m*\u001b[39m\n\u001b[0;32m    297\u001b[0m \u001b[38;5;28;01mfrom\u001b[39;00m\u001b[38;5;250m \u001b[39m\u001b[38;5;21;01m.\u001b[39;00m\u001b[38;5;21;01m_lil\u001b[39;00m\u001b[38;5;250m \u001b[39m\u001b[38;5;28;01mimport\u001b[39;00m \u001b[38;5;241m*\u001b[39m\n",
                        "File \u001b[1;32mc:\\dev\\anaconda3\\Lib\\site-packages\\scipy\\sparse\\_csr.py:11\u001b[0m\n\u001b[0;32m      9\u001b[0m \u001b[38;5;28;01mfrom\u001b[39;00m\u001b[38;5;250m \u001b[39m\u001b[38;5;21;01m.\u001b[39;00m\u001b[38;5;21;01m_matrix\u001b[39;00m\u001b[38;5;250m \u001b[39m\u001b[38;5;28;01mimport\u001b[39;00m spmatrix\n\u001b[0;32m     10\u001b[0m \u001b[38;5;28;01mfrom\u001b[39;00m\u001b[38;5;250m \u001b[39m\u001b[38;5;21;01m.\u001b[39;00m\u001b[38;5;21;01m_base\u001b[39;00m\u001b[38;5;250m \u001b[39m\u001b[38;5;28;01mimport\u001b[39;00m _spbase, sparray\n\u001b[1;32m---> 11\u001b[0m \u001b[38;5;28;01mfrom\u001b[39;00m\u001b[38;5;250m \u001b[39m\u001b[38;5;21;01m.\u001b[39;00m\u001b[38;5;21;01m_sparsetools\u001b[39;00m\u001b[38;5;250m \u001b[39m\u001b[38;5;28;01mimport\u001b[39;00m (csr_tocsc, csr_tobsr, csr_count_blocks,\n\u001b[0;32m     12\u001b[0m                            get_csr_submatrix)\n\u001b[0;32m     13\u001b[0m \u001b[38;5;28;01mfrom\u001b[39;00m\u001b[38;5;250m \u001b[39m\u001b[38;5;21;01m.\u001b[39;00m\u001b[38;5;21;01m_sputils\u001b[39;00m\u001b[38;5;250m \u001b[39m\u001b[38;5;28;01mimport\u001b[39;00m upcast\n\u001b[0;32m     15\u001b[0m \u001b[38;5;28;01mfrom\u001b[39;00m\u001b[38;5;250m \u001b[39m\u001b[38;5;21;01m.\u001b[39;00m\u001b[38;5;21;01m_compressed\u001b[39;00m\u001b[38;5;250m \u001b[39m\u001b[38;5;28;01mimport\u001b[39;00m _cs_matrix\n",
                        "\u001b[1;31mImportError\u001b[0m: numpy.core.multiarray failed to import"
                    ]
                }
            ],
            "source": [
                "\n",
                "from nltk.sentiment.vader import SentimentIntensityAnalyzer\n",
                "from sklearn.metrics import classification_report\n",
                "\n",
                "def vader_output_to_label(vader_output):\n",
                "    \"\"\"\n",
                "    map vader output e.g.,\n",
                "    {'neg': 0.0, 'neu': 0.0, 'pos': 1.0, 'compound': 0.4215}\n",
                "    to one of the following values:\n",
                "    a) positive float -> 'positive'\n",
                "    b) 0.0 -> 'neutral'\n",
                "    c) negative float -> 'negative'\n",
                "    \n",
                "    :param dict vader_output: output dict from vader\n",
                "    \n",
                "    :rtype: str\n",
                "    :return: 'negative' | 'neutral' | 'positive'\n",
                "    \"\"\"\n",
                "    compound = vader_output['compound']\n",
                "    \n",
                "    if compound < 0:\n",
                "        return 'negative'\n",
                "    elif compound == 0.0:\n",
                "        return 'neutral'\n",
                "    elif compound > 0.0:\n",
                "        return 'positive'\n",
                "    \n",
                "assert vader_output_to_label( {'neg': 0.0, 'neu': 0.0, 'pos': 1.0, 'compound': 0.0}) == 'neutral'\n",
                "assert vader_output_to_label( {'neg': 0.0, 'neu': 0.0, 'pos': 1.0, 'compound': 0.01}) == 'positive'\n",
                "assert vader_output_to_label( {'neg': 0.0, 'neu': 0.0, 'pos': 1.0, 'compound': -0.01}) == 'negative'"
            ]
        },
        {
            "cell_type": "code",
            "execution_count": null,
            "metadata": {},
            "outputs": [],
            "source": [
                "analyzer = SentimentIntensityAnalyzer()\n",
                "tweets = []\n",
                "all_vader_output = []\n",
                "gold = []\n",
                "\n",
                "# settings (to change for different experiments)\n",
                "to_lemmatize = True \n",
                "pos = set()\n",
                "\n",
                "for id_, tweet_info in my_tweets.items():\n",
                "    the_tweet = tweet_info['text_of_tweet']\n",
                "    vader_output = analyzer.polarity_scores(the_tweet) # run vader\n",
                "    vader_label = vader_output_to_label(vader_output) # convert vader output to category\n",
                "    \n",
                "    tweets.append(the_tweet)\n",
                "    all_vader_output.append(vader_label)\n",
                "    gold.append(tweet_info['sentiment_label'].strip().lower()) # Since the json file contained capitilized labels.\n",
                "    \n",
                "# use scikit-learn's classification report\n",
                "print(classification_report(gold, all_vader_output))"
            ]
        },
        {
            "cell_type": "markdown",
            "metadata": {},
            "source": [
                "### 3A:\n",
                " \n",
                "* [2.5 points] a. Perform a quantitative evaluation. Explain the different scores, and explain which scores are most relevant and why.\n",
                "\n",
                "The precision measures for each lable (negative, neutral, positive), how many predictions actually were accruate on target. \n",
                "\n",
                "For negative, 50% of the tweet predictions that were marked as negative were actually negative.\n",
                "For neutral, 60% of the tweet predictions that were marked as neutral were actually neutral.\n",
                "For positive, 48% of the tweet predictions that were marked as positive were actually postive.\n",
                "\n",
                "The recall measures for each lable (negative, neutral, positive) the ability of idenitfing the correct label based on the tweet information.\n",
                "\n",
                "For negative, 33% of the negative tweets were correcly indentified.\n",
                "For neutral, 45% of the neutral tweets were correcly indentified.\n",
                "For positive, 72% of the postive tweets were correcly indentified.\n",
                "\n",
                "The f1-score measures for each lable (negative, neutral, positive) the mean of precision and recall. f1-score indicates a balance measurement.\n",
                "\n",
                "For negative, 40% highlights a poorly preformance.\n",
                "For neutral, 51% highlights a monderate preformance.\n",
                "For positive, 58% highlights a better preformance relatively.\n",
                "\n",
                "\n",
                "The support provides an overview of the acrtual amount of negativve, neautral and positve(12,20,18) tweets.\n",
                "\n",
                "Regarding the accuracy, the model was able to correctly classify 52% of all the tweets.\n",
                "\n",
                "Macro avg represents the average metrics equally over the classes, while weighted avg illustrats the average meterics weighted by support.\n",
                "\n",
                "# Most relevant scores:\n",
                "F1-score provided a view over the balace between precision and recall, this is important when classes are imbalanaced.\n",
                "Weighted avg provided a more accruacte view, since wieghted avg took imbalancing inaccount compared to macro avg.\n",
                "\n",
                "\n",
                "\n",
                "\n",
                "\n"
            ]
        },
        {
            "cell_type": "markdown",
            "metadata": {},
            "source": [
                "### 3B:\n",
                " \n",
                "\n",
                "\n",
                "* [2.5 points] b. Perform an error analysis: select 10 positive, 10 negative and 10 neutral tweets that are not correctly classified and try to understand why. Refer to the VADER-rules and the VADER-lexicon. Of course, if there are less than 10 errors for a category, you only have to check those. For example, if there are only 5 errors for positive tweets, you just describe those."
            ]
        },
        {
            "cell_type": "markdown",
            "metadata": {},
            "source": [
                "### [4 points] Question 4:\n",
                "Run VADER on the set of airline tweets with the following settings:\n",
                "\n",
                "* Run VADER (as it is) on the set of airline tweets \n",
                "* Run VADER on the set of airline tweets after having lemmatized the text\n",
                "* Run VADER on the set of airline tweets with only adjectives\n",
                "* Run VADER on the set of airline tweets with only adjectives and after having lemmatized the text\n",
                "* Run VADER on the set of airline tweets with only nouns\n",
                "* Run VADER on the set of airline tweets with only nouns and after having lemmatized the text\n",
                "* Run VADER on the set of airline tweets with only verbs\n",
                "* Run VADER on the set of airline tweets with only verbs and after having lemmatized the text\n",
                "\n",
                "* [1 point] a. Generate for all separate experiments the classification report, i.e., Precision, Recall, and F<sub>1</sub> scores per category as well as micro and macro averages. **Use a different code cell (or multiple code cells) for each experiment.**\n",
                "* [3 points] b. Compare the scores and explain what they tell you.\n",
                "* - Does lemmatisation help? Explain why or why not.\n",
                "* - Are all parts of speech equally important for sentiment analysis? Explain why or why not."
            ]
        },
        {
            "cell_type": "code",
            "execution_count": null,
            "metadata": {},
            "outputs": [],
            "source": [
                "import spacy\n",
                "nlp = spacy.load('en_core_web_sm')\n",
                "\n",
                "def run_vader(textual_unit,\n",
                "              sentiments,\n",
                "              lemmatize=False, \n",
                "              parts_of_speech_to_consider=None,\n",
                "              ):\n",
                "    scores = []\n",
                "    for text in textual_unit:\n",
                "        doc = nlp(text)\n",
                "            \n",
                "        input_to_vader = []\n",
                "\n",
                "        for sent in doc.sents:\n",
                "            for token in sent:\n",
                "\n",
                "                to_add = token.text\n",
                "\n",
                "                if lemmatize:\n",
                "                    to_add = token.lemma_\n",
                "\n",
                "                    if to_add == '-PRON-': \n",
                "                        to_add = token.text\n",
                "\n",
                "                if parts_of_speech_to_consider:\n",
                "                    if token.pos_ in parts_of_speech_to_consider:\n",
                "                        input_to_vader.append(to_add) \n",
                "                else:\n",
                "                    input_to_vader.append(to_add)\n",
                "        score = vader_output_to_label(analyzer.polarity_scores(' '.join(input_to_vader)))\n",
                "        scores.append(score)\n",
                "\n",
                "    print(classification_report(sentiments, scores, zero_division=.0))\n",
                "    # return scores"
            ]
        },
        {
            "cell_type": "code",
            "execution_count": null,
            "metadata": {},
            "outputs": [],
            "source": [
                "r = my_tweets.items()\n",
                "text_of_tweets = []\n",
                "sent_of_tweets = []\n",
                "for i, j in r:\n",
                "    sent_of_tweets.append(j[\"sentiment_label\"].strip().lower())\n",
                "    text_of_tweets.append(j[\"text_of_tweet\"])"
            ]
        },
        {
            "cell_type": "code",
            "execution_count": null,
            "metadata": {},
            "outputs": [],
            "source": [
                "# Run VADER (as it is) on the set of airline tweets \n",
                "\n",
                "run_vader(text_of_tweets, sent_of_tweets)"
            ]
        },
        {
            "cell_type": "code",
            "execution_count": null,
            "metadata": {},
            "outputs": [],
            "source": [
                "# Run VADER on the set of airline tweets after having lemmatized the text\n",
                "run_vader(text_of_tweets, sent_of_tweets, lemmatize=True)"
            ]
        },
        {
            "cell_type": "code",
            "execution_count": null,
            "metadata": {},
            "outputs": [],
            "source": [
                "# Run VADER on the set of airline tweets with only adjectives\n",
                "run_vader(text_of_tweets, sent_of_tweets, parts_of_speech_to_consider=[\"JJ\"])"
            ]
        },
        {
            "cell_type": "code",
            "execution_count": null,
            "metadata": {},
            "outputs": [],
            "source": [
                "# Run VADER on the set of airline tweets with only adjectives and after having lemmatized the text\n",
                "run_vader(text_of_tweets, sent_of_tweets, parts_of_speech_to_consider=[\"JJ\"], lemmatize=True)"
            ]
        },
        {
            "cell_type": "code",
            "execution_count": null,
            "metadata": {},
            "outputs": [],
            "source": [
                "# Run VADER on the set of airline tweets with only nouns\n",
                "run_vader(text_of_tweets, sent_of_tweets, parts_of_speech_to_consider=[\"NN\"])"
            ]
        },
        {
            "cell_type": "code",
            "execution_count": null,
            "metadata": {},
            "outputs": [],
            "source": [
                "# Run VADER on the set of airline tweets with only nouns and after having lemmatized the text\n",
                "run_vader(text_of_tweets, sent_of_tweets, parts_of_speech_to_consider=[\"NN\"], lemmatize=True)"
            ]
        },
        {
            "cell_type": "code",
            "execution_count": null,
            "metadata": {},
            "outputs": [],
            "source": [
                "# Run VADER on the set of airline tweets with only verbs\n",
                "run_vader(text_of_tweets, sent_of_tweets, parts_of_speech_to_consider=[\"VB\"])"
            ]
        },
        {
            "cell_type": "code",
            "execution_count": null,
            "metadata": {},
            "outputs": [],
            "source": [
                "# Run VADER on the set of airline tweets with only verbs and after having lemmatized the text\n",
                "run_vader(text_of_tweets, sent_of_tweets, parts_of_speech_to_consider=[\"VB\"], lemmatize=True)"
            ]
        },
        {
            "cell_type": "markdown",
            "metadata": {},
            "source": [
                "## Part II: scikit-learn assignments\n",
                "### [4 points] Question 5\n",
                "Train the scikit-learn classifier (Naive Bayes) using the airline tweets.\n",
                "\n",
                "+ Train the model on the airline tweets with 80% training and 20% test set and default settings (TF-IDF representation, min_df=2)\n",
                "+ Train with different settings:\n",
                "    + with respect to vectorizing: TF-IDF ('airline_tfidf') vs. Bag of words representation ('airline_count') \n",
                "    + with respect to the frequency threshold (min_df). Carry out experiments with increasing values for document frequency (min_df = 2; min_df = 5; min_df =10) \n",
                "* [1 point] a. Generate a classification_report for all experiments\n",
                "* [3 points] b. Look at the results of the experiments with the different settings and try to explain why they differ: \n",
                "    + which category performs best, is this the case for any setting?\n",
                "    + does the frequency threshold affect the scores? Why or why not according to you?"
            ]
        },
        {
            "cell_type": "code",
            "execution_count": null,
            "metadata": {},
            "outputs": [],
            "source": [
                "# Your code here\n",
                "from sklearn.naive_bayes import MultinomialNB\n",
                "from sklearn.model_selection import train_test_split\n",
                "from sklearn.metrics import recall_score\n",
                "import nltk\n",
                "import pathlib\n",
                "from sklearn.datasets import load_files\n",
                "from nltk.corpus import stopwords\n",
                "from sklearn.feature_extraction.text import CountVectorizer\n",
                "from sklearn.feature_extraction.text import TfidfTransformer\n",
                "\n",
                "cwd = pathlib.Path.cwd()\n",
                "airline_tweets_folder = cwd.joinpath('airlinetweets')\n",
                "airline_tweets_train = None\n",
                "# loading all files as training data.\n",
                "path = str(airline_tweets_folder)\n",
                "airline_tweets_train = load_files(path)\n",
                "\n",
                "# Train a Multimoda Naive Bayes classifier\n",
                "airplane_vec = CountVectorizer(min_df=2, # If a token appears fewer times than this, across all documents, it will be ignored\n",
                "                             tokenizer=nltk.word_tokenize, # we use the nltk tokenizer\n",
                "                             stop_words=stopwords.words('english')) # stopwords are removed\n",
                "tweet_counts = airplane_vec.fit_transform(airline_tweets_train.data)\n",
                "\n",
                "tfidf_transformer = TfidfTransformer()\n",
                "tweets_tfidf = tfidf_transformer.fit_transform(tweet_counts)\n",
                "\n",
                "docs_train, docs_test, y_train, y_test = train_test_split(\n",
                "    tweets_tfidf, # the tf-idf model\n",
                "    sent_of_tweets, # the category values for each tweet \n",
                "    test_size = 0.20 # we use 80% for training and 20% for testing\n",
                ") \n",
                "\n",
                "clf = MultinomialNB().fit(docs_train, y_train)\n",
                "pred = clf.predict(docs_test)\n",
                "print(classification_report(y_test, pred, zero_division=.0))\n",
                "# recall_score(y_true=y_test,\n",
                "#             y_pred=pred,\n",
                "#             average='micro')"
            ]
        },
        {
            "cell_type": "markdown",
            "metadata": {},
            "source": [
                "### [4 points] Question 6: Inspecting the best scoring features \n",
                "\n",
                "+ Train the scikit-learn classifier (Naive Bayes) model with the following settings (airline tweets 80% training and 20% test;  Bag of words representation ('airline_count'), min_df=2)\n",
                "* [1 point] a. Generate the list of best scoring features per class (see function **important_features_per_class** below) [1 point]\n",
                "* [3 points] b. Look at the lists and consider the following issues: \n",
                "    + [1 point] Which features did you expect for each separate class and why?\n",
                "    + [1 point] Which features did you not expect and why ? \n",
                "    + [1 point] The list contains all kinds of words such as names of airlines, punctuation, numbers and content words (e.g., 'delay' and 'bad'). Which words would you remove or keep when trying to improve the model and why? "
            ]
        },
        {
            "cell_type": "code",
            "execution_count": null,
            "metadata": {},
            "outputs": [],
            "source": []
        },
        {
            "cell_type": "markdown",
            "metadata": {},
            "source": [
                "### [Optional! (will not  be graded)] Question 7\n",
                "Train the model on airline tweets and test it on your own set of tweets\n",
                "+ Train the model with the following settings (airline tweets 80% training and 20% test;  Bag of words representation ('airline_count'), min_df=2)\n",
                "+ Apply the model on your own set of tweets and generate the classification report\n",
                "* [1 point] a. Carry out a quantitative analysis.\n",
                "* [1 point] b. Carry out an error analysis on 10 correctly and 10 incorrectly classified tweets and discuss them\n",
                "* [2 points] c. Compare the results (cf. classification report) with the results obtained by VADER on the same tweets and discuss the differences."
            ]
        },
        {
            "cell_type": "markdown",
            "metadata": {},
            "source": [
                "### [Optional! (will not be graded)] Question 8: trying to improve the model\n",
                "* [2 points] a. Think of some ways to improve the scikit-learn Naive Bayes model by playing with the settings or applying linguistic preprocessing (e.g., by filtering on part-of-speech, or removing punctuation). Do not change the classifier but continue using the Naive Bayes classifier. Explain what the effects might be of these other settings \n",
                "+ [1 point] b. Apply the model with at least one new setting (train on the airline tweets using 80% training, 20% test) and generate the scores\n",
                "* [1 point] c. Discuss whether the model achieved what you expected."
            ]
        },
        {
            "cell_type": "markdown",
            "metadata": {},
            "source": [
                "## End of this notebook"
            ]
        },
        {
            "cell_type": "code",
            "execution_count": null,
            "metadata": {},
            "outputs": [],
            "source": []
        }
    ],
    "metadata": {
        "kernelspec": {
            "display_name": "base",
            "language": "python",
            "name": "python3"
        },
        "language_info": {
            "codemirror_mode": {
                "name": "ipython",
                "version": 3
            },
            "file_extension": ".py",
            "mimetype": "text/x-python",
            "name": "python",
            "nbconvert_exporter": "python",
            "pygments_lexer": "ipython3",
            "version": "3.12.7"
        }
    },
    "nbformat": 4,
    "nbformat_minor": 4
}
