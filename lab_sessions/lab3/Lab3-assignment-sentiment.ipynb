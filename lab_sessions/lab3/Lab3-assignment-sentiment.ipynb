{
    "cells": [
        {
            "cell_type": "markdown",
            "metadata": {},
            "source": [
                "# Lab3 - Assignment Sentiment"
            ]
        },
        {
            "cell_type": "markdown",
            "metadata": {},
            "source": [
                "Copyright: Vrije Universiteit Amsterdam, Faculty of Humanities, CLTL"
            ]
        },
        {
            "cell_type": "markdown",
            "metadata": {},
            "source": [
                "This notebook describes the LAB-3 assignment of the Text Mining course. It is about sentiment analysis.\n",
                "\n",
                "The aims of the assignment are:\n",
                "* Learn how to run a rule-based sentiment analysis module (VADER)\n",
                "* Learn how to run a machine learning sentiment analysis module (Scikit-Learn/ Naive Bayes)\n",
                "* Learn how to run scikit-learn metrics for the quantitative evaluation\n",
                "* Learn how to perform and interpret a quantitative evaluation of the outcomes of the tools (in terms of Precision, Recall, and F<sub>1</sub>)\n",
                "* Learn how to evaluate the results qualitatively (by examining the data) \n",
                "* Get insight into differences between the two applied methods\n",
                "* Get insight into the effects of using linguistic preprocessing\n",
                "* Be able to describe differences between the two methods in terms of their results\n",
                "* Get insight into issues when applying these methods across different  domains\n",
                "\n",
                "In this assignment, you are going to create your own gold standard set from 50 tweets. You will the VADER and scikit-learn classifiers to these tweets and evaluate the results by using evaluation metrics and inspecting the data.\n",
                "\n",
                "We recommend you go through the notebooks in the following order:\n",
                "* **Read the assignment (see below)**\n",
                "* **Lab3.2-Sentiment-analysis-with-VADER.ipynb**\n",
                "* **Lab3.3-Sentiment-analysis.with-scikit-learn.ipynb**\n",
                "* **Answer the questions of the assignment (see below) using the provided notebooks and submit**\n",
                "\n",
                "In this assignment you are asked to perform both quantitative evaluations and error analyses:\n",
                "* a quantitative evaluation concerns the scores (Precision, Recall, and F<sub>1</sub>) provided by scikit's classification_report. It includes the scores per category, as well as micro and macro averages. Discuss whether the scores are balanced or not between the different categories (positive, negative, neutral) and between precision and recall. Discuss the shortcomings (if any) of the classifier based on these scores\n",
                "* an error analysis regarding the misclassifications of the classifier. It involves going through the texts and trying to understand what has gone wrong. It servers to get insight in what could be done to improve the performance of the classifier. Do you observe patterns in misclassifications?  Discuss why these errors are made and propose ways to solve them."
            ]
        },
        {
            "cell_type": "markdown",
            "metadata": {},
            "source": [
                "## Credits\n",
                "The notebooks in this block have been originally created by [Marten Postma](https://martenpostma.github.io) and [Isa Maks](https://research.vu.nl/en/persons/e-maks). Adaptations were made by [Filip Ilievski](http://ilievski.nl)."
            ]
        },
        {
            "cell_type": "markdown",
            "metadata": {},
            "source": [
                "## Part I: VADER assignments\n",
                "\n",
                "\n",
                "### Preparation (nothing to submit):\n",
                "To be able to answer the VADER questions you need to know how the tool works. \n",
                "* Read more about the VADER tool in [this blog](https://www.geeksforgeeks.org/python-sentiment-analysis-using-vader/).  \n",
                "* VADER provides 4 scores (positive, negative, neutral, compound). Be sure to understand what they mean and how they are calculated.\n",
                "* VADER uses rules to handle linguistic phenomena such as negation and intensification. Be sure to understand which rules are used, how they work, and why they are important.\n",
                "* VADER makes use of a sentiment lexicon. Have a look at the lexicon. Be sure to understand which information can be found there (lemma?, wordform?, part-of-speech?, polarity value?, word meaning?) What do all scores mean? https://github.com/cjhutto/vaderSentiment/blob/master/vaderSentiment/vader_lexicon.txt) \n",
                "\n",
                "\n",
                "### [3.5 points] Question1:\n",
                "\n",
                "Regard the following sentences and their output as given by VADER. Regard sentences 1 to 7, and explain the outcome **for each sentence**. Take into account both the rules applied by VADER and the lexicon that is used. You will find that some of the results are reasonable, but others are not. Explain what is going wrong or not when correct and incorrect results are produced. \n",
                "\n",
                "```\n",
                "INPUT SENTENCE 1 I love apples\n",
                "VADER OUTPUT {'neg': 0.0, 'neu': 0.192, 'pos': 0.808, 'compound': 0.6369}\n",
                "\n",
                "INPUT SENTENCE 2 I don't love apples\n",
                "VADER OUTPUT {'neg': 0.627, 'neu': 0.373, 'pos': 0.0, 'compound': -0.5216}\n",
                "\n",
                "INPUT SENTENCE 3 I love apples :-)\n",
                "VADER OUTPUT {'neg': 0.0, 'neu': 0.133, 'pos': 0.867, 'compound': 0.7579}\n",
                "\n",
                "INPUT SENTENCE 4 These houses are ruins\n",
                "VADER OUTPUT {'neg': 0.492, 'neu': 0.508, 'pos': 0.0, 'compound': -0.4404}\n",
                "\n",
                "INPUT SENTENCE 5 These houses are certainly not considered ruins\n",
                "VADER OUTPUT {'neg': 0.0, 'neu': 0.51, 'pos': 0.49, 'compound': 0.5867}\n",
                "\n",
                "INPUT SENTENCE 6 He lies in the chair in the garden\n",
                "VADER OUTPUT {'neg': 0.286, 'neu': 0.714, 'pos': 0.0, 'compound': -0.4215}\n",
                "\n",
                "INPUT SENTENCE 7 This house is like any house\n",
                "VADER OUTPUT {'neg': 0.0, 'neu': 0.667, 'pos': 0.333, 'compound': 0.3612}\n",
                "```"
            ]
        },
        {
            "cell_type": "markdown",
            "metadata": {},
            "source": [
                "### [Points: 2.5] Exercise 2: Collecting 50 tweets for evaluation\n",
                "Collect 50 tweets. Try to find tweets that are interesting for sentiment analysis, e.g., very positive, neutral, and negative tweets. These could be your own tweets (typed in) or collected from the Twitter stream. If you have trouble accessing Twitter, try to find an existing dataset (on websites like kaggle or huggingface).\n",
                "\n",
                "We will store the tweets in the file **my_tweets.json** (use a text editor to edit).\n",
                "For each tweet, you should insert:\n",
                "* sentiment analysis label: negative | neutral | positive (this you determine yourself, this is not done by a computer)\n",
                "* the text of the tweet\n",
                "* the Tweet-URL\n",
                "\n",
                "from:\n",
                "```\n",
                "    \"1\": {\n",
                "        \"sentiment_label\": \"\",\n",
                "        \"text_of_tweet\": \"\",\n",
                "        \"tweet_url\": \"\",\n",
                "```\n",
                "to:\n",
                "```\n",
                "\"1\": {\n",
                "        \"sentiment_label\": \"positive\",\n",
                "        \"text_of_tweet\": \"All across America people chose to get involved, get engaged and stand up. Each of us can make a difference, and all of us ought to try. So go keep changing the world in 2018.\",\n",
                "        \"tweet_url\" : \"https://twitter.com/BarackObama/status/946775615893655552\",\n",
                "    },\n",
                "```"
            ]
        },
        {
            "cell_type": "markdown",
            "metadata": {},
            "source": [
                "You can load your tweets with human annotation in the following way."
            ]
        },
        {
            "cell_type": "code",
            "execution_count": 4,
            "metadata": {},
            "outputs": [],
            "source": [
                "import json"
            ]
        },
        {
            "cell_type": "code",
            "execution_count": 5,
            "metadata": {},
            "outputs": [],
            "source": [
                "my_tweets = None\n",
                "with open('my_tweets.json', encoding=\"utf8\") as f:\n",
                "    my_tweets = json.load(f)"
            ]
        },
        {
            "cell_type": "code",
            "execution_count": 6,
            "metadata": {},
            "outputs": [
                {
                    "name": "stdout",
                    "output_type": "stream",
                    "text": [
                        "1 {'sentiment_label': 'Positive', 'text_of_tweet': 'Be sure to tune in and watch Donald Trump on Late Night with David Letterman as he presents the Top Ten List tonight!', 'tweet_url': 'https://twitter.com/realDonaldTrump/status/1698308935'}\n"
                    ]
                }
            ],
            "source": [
                "for id_, tweet_info in my_tweets.items():\n",
                "    print(id_, tweet_info)\n",
                "    break"
            ]
        },
        {
            "cell_type": "markdown",
            "metadata": {},
            "source": [
                "### [5 points] Question 3:\n",
                "\n",
                "Run VADER on your own tweets (see function **run_vader** from notebook **Lab2-Sentiment-analysis-using-VADER.ipynb**). You can use the code snippet below this explanation as a starting point. \n",
                "* [2.5 points] a. Perform a quantitative evaluation. Explain the different scores, and explain which scores are most relevant and why.\n",
                "* [2.5 points] b. Perform an error analysis: select 10 positive, 10 negative and 10 neutral tweets that are not correctly classified and try to understand why. Refer to the VADER-rules and the VADER-lexicon. Of course, if there are less than 10 errors for a category, you only have to check those. For example, if there are only 5 errors for positive tweets, you just describe those."
            ]
        },
        {
            "cell_type": "code",
            "execution_count": 7,
            "metadata": {},
            "outputs": [],
            "source": [
                "from nltk.sentiment.vader import SentimentIntensityAnalyzer\n",
                "from sklearn.metrics import classification_report\n",
                "\n",
                "def vader_output_to_label(vader_output):\n",
                "    \"\"\"\n",
                "    map vader output e.g.,\n",
                "    {'neg': 0.0, 'neu': 0.0, 'pos': 1.0, 'compound': 0.4215}\n",
                "    to one of the following values:\n",
                "    a) positive float -> 'positive'\n",
                "    b) 0.0 -> 'neutral'\n",
                "    c) negative float -> 'negative'\n",
                "    \n",
                "    :param dict vader_output: output dict from vader\n",
                "    \n",
                "    :rtype: str\n",
                "    :return: 'negative' | 'neutral' | 'positive'\n",
                "    \"\"\"\n",
                "    compound = vader_output['compound']\n",
                "    \n",
                "    if compound < 0:\n",
                "        return 'negative'\n",
                "    elif compound == 0.0:\n",
                "        return 'neutral'\n",
                "    elif compound > 0.0:\n",
                "        return 'positive'\n",
                "    \n",
                "assert vader_output_to_label( {'neg': 0.0, 'neu': 0.0, 'pos': 1.0, 'compound': 0.0}) == 'neutral'\n",
                "assert vader_output_to_label( {'neg': 0.0, 'neu': 0.0, 'pos': 1.0, 'compound': 0.01}) == 'positive'\n",
                "assert vader_output_to_label( {'neg': 0.0, 'neu': 0.0, 'pos': 1.0, 'compound': -0.01}) == 'negative'"
            ]
        },
        {
            "cell_type": "code",
            "execution_count": 8,
            "metadata": {},
            "outputs": [
                {
                    "name": "stdout",
                    "output_type": "stream",
                    "text": [
                        "              precision    recall  f1-score   support\n",
                        "\n",
                        "    negative       0.50      0.33      0.40        12\n",
                        "     neutral       0.60      0.45      0.51        20\n",
                        "    positive       0.48      0.72      0.58        18\n",
                        "\n",
                        "    accuracy                           0.52        50\n",
                        "   macro avg       0.53      0.50      0.50        50\n",
                        "weighted avg       0.53      0.52      0.51        50\n",
                        "\n"
                    ]
                }
            ],
            "source": [
                "analyzer = SentimentIntensityAnalyzer()\n",
                "tweets = []\n",
                "all_vader_output = []\n",
                "gold = []\n",
                "\n",
                "# settings (to change for different experiments)\n",
                "to_lemmatize = True \n",
                "pos = set()\n",
                "\n",
                "for id_, tweet_info in my_tweets.items():\n",
                "    the_tweet = tweet_info['text_of_tweet']\n",
                "    vader_output = analyzer.polarity_scores(the_tweet) # run vader\n",
                "    vader_label = vader_output_to_label(vader_output) # convert vader output to category\n",
                "    \n",
                "    tweets.append(the_tweet)\n",
                "    all_vader_output.append(vader_label)\n",
                "    gold.append(tweet_info['sentiment_label'].strip().lower()) # Since the json file contained capitilized labels.\n",
                "    \n",
                "# use scikit-learn's classification report\n",
                "print(classification_report(gold, all_vader_output))"
            ]
        },
        {
            "cell_type": "markdown",
            "metadata": {},
            "source": [
                "### 3A:\n",
                " \n",
                "* [2.5 points] a. Perform a quantitative evaluation. Explain the different scores, and explain which scores are most relevant and why.\n",
                "\n",
                "The precision measures for each lable (negative, neutral, positive), how many predictions actually were accruate on target. \n",
                "\n",
                "For negative, 50% of the tweet predictions that were marked as negative were actually negative.\n",
                "For neutral, 60% of the tweet predictions that were marked as neutral were actually neutral.\n",
                "For positive, 48% of the tweet predictions that were marked as positive were actually postive.\n",
                "\n",
                "The recall measures for each lable (negative, neutral, positive) the ability of idenitfing the correct label based on the tweet information.\n",
                "\n",
                "For negative, 33% of the negative tweets were correcly indentified.\n",
                "For neutral, 45% of the neutral tweets were correcly indentified.\n",
                "For positive, 72% of the postive tweets were correcly indentified.\n",
                "\n",
                "The f1-score measures for each lable (negative, neutral, positive) the mean of precision and recall. f1-score indicates a balance measurement.\n",
                "\n",
                "For negative, 40% highlights a poorly preformance.\n",
                "For neutral, 51% highlights a monderate preformance.\n",
                "For positive, 58% highlights a better preformance relatively.\n",
                "\n",
                "\n",
                "The support provides an overview of the acrtual amount of negativve, neautral and positve(12,20,18) tweets.\n",
                "\n",
                "Regarding the accuracy, the model was able to correctly classify 52% of all the tweets.\n",
                "\n",
                "Macro avg represents the average metrics equally over the classes, while weighted avg illustrats the average meterics weighted by support.\n",
                "\n",
                "# Most relevant scores:\n",
                "F1-score provided a view over the balace between precision and recall, this is important when classes are imbalanaced.\n",
                "Weighted avg provided a more accruacte view, since wieghted avg took imbalancing inaccount compared to macro avg.\n",
                "\n",
                "\n",
                "\n",
                "\n",
                "\n"
            ]
        },
        {
            "cell_type": "markdown",
            "metadata": {},
            "source": [
                "### 3B:\n",
                " \n",
                "\n",
                "\n",
                "* [2.5 points] b. Perform an error analysis: select 10 positive, 10 negative and 10 neutral tweets that are not correctly classified and try to understand why. Refer to the VADER-rules and the VADER-lexicon. Of course, if there are less than 10 errors for a category, you only have to check those. For example, if there are only 5 errors for positive tweets, you just describe those."
            ]
        },
        {
            "cell_type": "markdown",
            "metadata": {},
            "source": [
                "### [4 points] Question 4:\n",
                "Run VADER on the set of airline tweets with the following settings:\n",
                "\n",
                "* Run VADER (as it is) on the set of airline tweets \n",
                "* Run VADER on the set of airline tweets after having lemmatized the text\n",
                "* Run VADER on the set of airline tweets with only adjectives\n",
                "* Run VADER on the set of airline tweets with only adjectives and after having lemmatized the text\n",
                "* Run VADER on the set of airline tweets with only nouns\n",
                "* Run VADER on the set of airline tweets with only nouns and after having lemmatized the text\n",
                "* Run VADER on the set of airline tweets with only verbs\n",
                "* Run VADER on the set of airline tweets with only verbs and after having lemmatized the text\n",
                "\n",
                "* [1 point] a. Generate for all separate experiments the classification report, i.e., Precision, Recall, and F<sub>1</sub> scores per category as well as micro and macro averages. **Use a different code cell (or multiple code cells) for each experiment.**\n",
                "* [3 points] b. Compare the scores and explain what they tell you.\n",
                "* - Does lemmatisation help? Explain why or why not.\n",
                "* - Are all parts of speech equally important for sentiment analysis? Explain why or why not."
            ]
        },
        {
            "cell_type": "code",
            "execution_count": 9,
            "metadata": {},
            "outputs": [],
            "source": [
                "# Your code here\n"
            ]
        },
        {
            "cell_type": "markdown",
            "metadata": {},
            "source": [
                "## Part II: scikit-learn assignments\n",
                "### [4 points] Question 5\n",
                "Train the scikit-learn classifier (Naive Bayes) using the airline tweets.\n",
                "\n",
                "+ Train the model on the airline tweets with 80% training and 20% test set and default settings (TF-IDF representation, min_df=2)\n",
                "+ Train with different settings:\n",
                "    + with respect to vectorizing: TF-IDF ('airline_tfidf') vs. Bag of words representation ('airline_count') \n",
                "    + with respect to the frequency threshold (min_df). Carry out experiments with increasing values for document frequency (min_df = 2; min_df = 5; min_df =10) \n",
                "* [1 point] a. Generate a classification_report for all experiments\n",
                "* [3 points] b. Look at the results of the experiments with the different settings and try to explain why they differ: \n",
                "    + which category performs best, is this the case for any setting?\n",
                "    + does the frequency threshold affect the scores? Why or why not according to you?"
            ]
        },
        {
            "cell_type": "code",
            "execution_count": 10,
            "metadata": {},
            "outputs": [],
            "source": [
                "# Your code here\n"
            ]
        },
        {
            "cell_type": "markdown",
            "metadata": {},
            "source": [
                "### [4 points] Question 6: Inspecting the best scoring features \n",
                "\n",
                "+ Train the scikit-learn classifier (Naive Bayes) model with the following settings (airline tweets 80% training and 20% test;  Bag of words representation ('airline_count'), min_df=2)\n",
                "* [1 point] a. Generate the list of best scoring features per class (see function **important_features_per_class** below) [1 point]\n",
                "* [3 points] b. Look at the lists and consider the following issues: \n",
                "    + [1 point] Which features did you expect for each separate class and why?\n",
                "    + [1 point] Which features did you not expect and why ? \n",
                "    + [1 point] The list contains all kinds of words such as names of airlines, punctuation, numbers and content words (e.g., 'delay' and 'bad'). Which words would you remove or keep when trying to improve the model and why? "
            ]
        },
        {
            "cell_type": "code",
            "execution_count": 11,
            "metadata": {},
            "outputs": [],
            "source": [
                "def important_features_per_class(vectorizer,classifier,n=80):\n",
                "    class_labels = classifier.classes_\n",
                "    feature_names =vectorizer.get_feature_names()\n",
                "    topn_class1 = sorted(zip(classifier.feature_count_[0], feature_names),reverse=True)[:n]\n",
                "    topn_class2 = sorted(zip(classifier.feature_count_[1], feature_names),reverse=True)[:n]\n",
                "    topn_class3 = sorted(zip(classifier.feature_count_[2], feature_names),reverse=True)[:n]\n",
                "    print(\"Important words in negative documents\")\n",
                "    for coef, feat in topn_class1:\n",
                "        print(class_labels[0], coef, feat)\n",
                "    print(\"-----------------------------------------\")\n",
                "    print(\"Important words in neutral documents\")\n",
                "    for coef, feat in topn_class2:\n",
                "        print(class_labels[1], coef, feat) \n",
                "    print(\"-----------------------------------------\")\n",
                "    print(\"Important words in positive documents\")\n",
                "    for coef, feat in topn_class3:\n",
                "        print(class_labels[2], coef, feat) \n",
                "\n",
                "# example of how to call from notebook:\n",
                "#important_features_per_class(airline_vec, clf)"
            ]
        },
        {
            "cell_type": "markdown",
            "metadata": {},
            "source": [
                "### [Optional! (will not  be graded)] Question 7\n",
                "Train the model on airline tweets and test it on your own set of tweets\n",
                "+ Train the model with the following settings (airline tweets 80% training and 20% test;  Bag of words representation ('airline_count'), min_df=2)\n",
                "+ Apply the model on your own set of tweets and generate the classification report\n",
                "* [1 point] a. Carry out a quantitative analysis.\n",
                "* [1 point] b. Carry out an error analysis on 10 correctly and 10 incorrectly classified tweets and discuss them\n",
                "* [2 points] c. Compare the results (cf. classification report) with the results obtained by VADER on the same tweets and discuss the differences."
            ]
        },
        {
            "cell_type": "markdown",
            "metadata": {},
            "source": [
                "### [Optional! (will not be graded)] Question 8: trying to improve the model\n",
                "* [2 points] a. Think of some ways to improve the scikit-learn Naive Bayes model by playing with the settings or applying linguistic preprocessing (e.g., by filtering on part-of-speech, or removing punctuation). Do not change the classifier but continue using the Naive Bayes classifier. Explain what the effects might be of these other settings \n",
                "+ [1 point] b. Apply the model with at least one new setting (train on the airline tweets using 80% training, 20% test) and generate the scores\n",
                "* [1 point] c. Discuss whether the model achieved what you expected."
            ]
        },
        {
            "cell_type": "markdown",
            "metadata": {},
            "source": [
                "## End of this notebook"
            ]
        },
        {
            "cell_type": "code",
            "execution_count": null,
            "metadata": {},
            "outputs": [],
            "source": []
        }
    ],
    "metadata": {
        "kernelspec": {
            "display_name": "Python 3",
            "language": "python",
            "name": "python3"
        },
        "language_info": {
            "codemirror_mode": {
                "name": "ipython",
                "version": 3
            },
            "file_extension": ".py",
            "mimetype": "text/x-python",
            "name": "python",
            "nbconvert_exporter": "python",
            "pygments_lexer": "ipython3",
            "version": "3.10.0"
        }
    },
    "nbformat": 4,
    "nbformat_minor": 4
}
